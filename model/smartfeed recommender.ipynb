{
 "cells": [
  {
   "cell_type": "markdown",
   "id": "6fc75fea",
   "metadata": {},
   "source": [
    "# Smart Feed Recommender System"
   ]
  },
  {
   "cell_type": "code",
   "execution_count": 2,
   "id": "dab293fe",
   "metadata": {},
   "outputs": [],
   "source": [
    "import numpy as np\n",
    "import pandas as pd\n",
    "import matplotlib.pyplot as plt\n",
    "import seaborn as sns\n",
    "\n",
    "%matplotlib inline"
   ]
  },
  {
   "cell_type": "code",
   "execution_count": 5,
   "id": "fee06af1",
   "metadata": {},
   "outputs": [],
   "source": [
    "import tensorflow as tf\n",
    "from tensorflow.keras.models import Sequential\n",
    "from tensorflow.keras.layers import Dense, Activation,Dropout,Input, Dot"
   ]
  },
  {
   "cell_type": "markdown",
   "id": "18695240",
   "metadata": {},
   "source": [
    "# Text Preprocessing\n",
    "\n",
    "Consider required columns\\\n",
    "Missing Data\\\n",
    "Duplicated Data\\\n",
    "Keywords\\\n",
    "Stop words\\\n",
    "PorterStemmer\n"
   ]
  },
  {
   "cell_type": "code",
   "execution_count": 319,
   "id": "c2bfd87c",
   "metadata": {},
   "outputs": [],
   "source": [
    "df = pd.read_csv('./News Dataset.csv')"
   ]
  },
  {
   "cell_type": "code",
   "execution_count": 320,
   "id": "bfaa1f6f",
   "metadata": {},
   "outputs": [
    {
     "data": {
      "text/html": [
       "<div>\n",
       "<style scoped>\n",
       "    .dataframe tbody tr th:only-of-type {\n",
       "        vertical-align: middle;\n",
       "    }\n",
       "\n",
       "    .dataframe tbody tr th {\n",
       "        vertical-align: top;\n",
       "    }\n",
       "\n",
       "    .dataframe thead th {\n",
       "        text-align: right;\n",
       "    }\n",
       "</style>\n",
       "<table border=\"1\" class=\"dataframe\">\n",
       "  <thead>\n",
       "    <tr style=\"text-align: right;\">\n",
       "      <th></th>\n",
       "      <th>source</th>\n",
       "      <th>author</th>\n",
       "      <th>title</th>\n",
       "      <th>description</th>\n",
       "      <th>url</th>\n",
       "      <th>urlToImage</th>\n",
       "      <th>publishedAt</th>\n",
       "      <th>content</th>\n",
       "      <th>category</th>\n",
       "    </tr>\n",
       "  </thead>\n",
       "  <tbody>\n",
       "    <tr>\n",
       "      <th>0</th>\n",
       "      <td>{'id': None, 'name': 'Yahoo Entertainment'}</td>\n",
       "      <td>Test Yessis</td>\n",
       "      <td>test-setcion</td>\n",
       "      <td>test-setcionThis article originally appeared o...</td>\n",
       "      <td>https://consent.yahoo.com/v2/collectConsent?se...</td>\n",
       "      <td>NaN</td>\n",
       "      <td>2024-05-14T06:19:29Z</td>\n",
       "      <td>click accept partners including part iab trans...</td>\n",
       "      <td>technology</td>\n",
       "    </tr>\n",
       "    <tr>\n",
       "      <th>1</th>\n",
       "      <td>{'id': 'wired', 'name': 'Wired'}</td>\n",
       "      <td>Steven Levy</td>\n",
       "      <td>Don’t Let Mistrust of Tech Companies Blind You...</td>\n",
       "      <td>It’s OK to be doubtful of tech leaders’ grandi...</td>\n",
       "      <td>https://www.wired.com/story/dont-let-mistrust-...</td>\n",
       "      <td>https://media.wired.com/photos/66625436bd6c904...</td>\n",
       "      <td>2024-06-07T13:00:00Z</td>\n",
       "      <td>seems evident almost years first conference ar...</td>\n",
       "      <td>technology</td>\n",
       "    </tr>\n",
       "    <tr>\n",
       "      <th>2</th>\n",
       "      <td>{'id': 'wired', 'name': 'Wired'}</td>\n",
       "      <td>Will Knight</td>\n",
       "      <td>OpenAI Offers a Peek Inside the Guts of ChatGPT</td>\n",
       "      <td>Days after former employees said the company w...</td>\n",
       "      <td>https://www.wired.com/story/openai-offers-a-pe...</td>\n",
       "      <td>https://media.wired.com/photos/6661d484e7f0257...</td>\n",
       "      <td>2024-06-06T17:45:55Z</td>\n",
       "      <td>chatgpt developer openais approach building ar...</td>\n",
       "      <td>technology</td>\n",
       "    </tr>\n",
       "    <tr>\n",
       "      <th>3</th>\n",
       "      <td>{'id': 'wired', 'name': 'Wired'}</td>\n",
       "      <td>Jason Parham</td>\n",
       "      <td>The Rebirth of Queer Cruising Apps</td>\n",
       "      <td>Looking for casual sex is often seen as taboo,...</td>\n",
       "      <td>https://www.wired.com/story/the-rebirth-of-que...</td>\n",
       "      <td>https://media.wired.com/photos/664fdffb3de340b...</td>\n",
       "      <td>2024-05-27T12:00:00Z</td>\n",
       "      <td>one night past february drinks moody bar light...</td>\n",
       "      <td>technology</td>\n",
       "    </tr>\n",
       "    <tr>\n",
       "      <th>4</th>\n",
       "      <td>{'id': None, 'name': '[Removed]'}</td>\n",
       "      <td>NaN</td>\n",
       "      <td>[Removed]</td>\n",
       "      <td>[Removed]</td>\n",
       "      <td>https://removed.com</td>\n",
       "      <td>NaN</td>\n",
       "      <td>1970-01-01T00:00:00Z</td>\n",
       "      <td>removed</td>\n",
       "      <td>technology</td>\n",
       "    </tr>\n",
       "  </tbody>\n",
       "</table>\n",
       "</div>"
      ],
      "text/plain": [
       "                                        source        author  \\\n",
       "0  {'id': None, 'name': 'Yahoo Entertainment'}   Test Yessis   \n",
       "1             {'id': 'wired', 'name': 'Wired'}   Steven Levy   \n",
       "2             {'id': 'wired', 'name': 'Wired'}   Will Knight   \n",
       "3             {'id': 'wired', 'name': 'Wired'}  Jason Parham   \n",
       "4            {'id': None, 'name': '[Removed]'}           NaN   \n",
       "\n",
       "                                               title  \\\n",
       "0                                       test-setcion   \n",
       "1  Don’t Let Mistrust of Tech Companies Blind You...   \n",
       "2    OpenAI Offers a Peek Inside the Guts of ChatGPT   \n",
       "3                 The Rebirth of Queer Cruising Apps   \n",
       "4                                          [Removed]   \n",
       "\n",
       "                                         description  \\\n",
       "0  test-setcionThis article originally appeared o...   \n",
       "1  It’s OK to be doubtful of tech leaders’ grandi...   \n",
       "2  Days after former employees said the company w...   \n",
       "3  Looking for casual sex is often seen as taboo,...   \n",
       "4                                          [Removed]   \n",
       "\n",
       "                                                 url  \\\n",
       "0  https://consent.yahoo.com/v2/collectConsent?se...   \n",
       "1  https://www.wired.com/story/dont-let-mistrust-...   \n",
       "2  https://www.wired.com/story/openai-offers-a-pe...   \n",
       "3  https://www.wired.com/story/the-rebirth-of-que...   \n",
       "4                                https://removed.com   \n",
       "\n",
       "                                          urlToImage           publishedAt  \\\n",
       "0                                                NaN  2024-05-14T06:19:29Z   \n",
       "1  https://media.wired.com/photos/66625436bd6c904...  2024-06-07T13:00:00Z   \n",
       "2  https://media.wired.com/photos/6661d484e7f0257...  2024-06-06T17:45:55Z   \n",
       "3  https://media.wired.com/photos/664fdffb3de340b...  2024-05-27T12:00:00Z   \n",
       "4                                                NaN  1970-01-01T00:00:00Z   \n",
       "\n",
       "                                             content    category  \n",
       "0  click accept partners including part iab trans...  technology  \n",
       "1  seems evident almost years first conference ar...  technology  \n",
       "2  chatgpt developer openais approach building ar...  technology  \n",
       "3  one night past february drinks moody bar light...  technology  \n",
       "4                                            removed  technology  "
      ]
     },
     "execution_count": 320,
     "metadata": {},
     "output_type": "execute_result"
    }
   ],
   "source": [
    "df.head()"
   ]
  },
  {
   "cell_type": "code",
   "execution_count": 321,
   "id": "5e986f4b",
   "metadata": {},
   "outputs": [
    {
     "data": {
      "text/plain": [
       "(700, 9)"
      ]
     },
     "execution_count": 321,
     "metadata": {},
     "output_type": "execute_result"
    }
   ],
   "source": [
    "df.shape"
   ]
  },
  {
   "cell_type": "code",
   "execution_count": 322,
   "id": "8d4c6d65",
   "metadata": {},
   "outputs": [
    {
     "data": {
      "text/html": [
       "<div>\n",
       "<style scoped>\n",
       "    .dataframe tbody tr th:only-of-type {\n",
       "        vertical-align: middle;\n",
       "    }\n",
       "\n",
       "    .dataframe tbody tr th {\n",
       "        vertical-align: top;\n",
       "    }\n",
       "\n",
       "    .dataframe thead th {\n",
       "        text-align: right;\n",
       "    }\n",
       "</style>\n",
       "<table border=\"1\" class=\"dataframe\">\n",
       "  <thead>\n",
       "    <tr style=\"text-align: right;\">\n",
       "      <th></th>\n",
       "      <th>source</th>\n",
       "      <th>author</th>\n",
       "      <th>title</th>\n",
       "      <th>description</th>\n",
       "      <th>url</th>\n",
       "      <th>urlToImage</th>\n",
       "      <th>publishedAt</th>\n",
       "      <th>content</th>\n",
       "      <th>category</th>\n",
       "    </tr>\n",
       "  </thead>\n",
       "  <tbody>\n",
       "    <tr>\n",
       "      <th>0</th>\n",
       "      <td>{'id': None, 'name': 'Yahoo Entertainment'}</td>\n",
       "      <td>Test Yessis</td>\n",
       "      <td>test-setcion</td>\n",
       "      <td>test-setcionThis article originally appeared o...</td>\n",
       "      <td>https://consent.yahoo.com/v2/collectConsent?se...</td>\n",
       "      <td>NaN</td>\n",
       "      <td>2024-05-14T06:19:29Z</td>\n",
       "      <td>click accept partners including part iab trans...</td>\n",
       "      <td>technology</td>\n",
       "    </tr>\n",
       "  </tbody>\n",
       "</table>\n",
       "</div>"
      ],
      "text/plain": [
       "                                        source       author         title  \\\n",
       "0  {'id': None, 'name': 'Yahoo Entertainment'}  Test Yessis  test-setcion   \n",
       "\n",
       "                                         description  \\\n",
       "0  test-setcionThis article originally appeared o...   \n",
       "\n",
       "                                                 url urlToImage  \\\n",
       "0  https://consent.yahoo.com/v2/collectConsent?se...        NaN   \n",
       "\n",
       "            publishedAt                                            content  \\\n",
       "0  2024-05-14T06:19:29Z  click accept partners including part iab trans...   \n",
       "\n",
       "     category  \n",
       "0  technology  "
      ]
     },
     "execution_count": 322,
     "metadata": {},
     "output_type": "execute_result"
    }
   ],
   "source": [
    "df.head(1)"
   ]
  },
  {
   "cell_type": "code",
   "execution_count": 323,
   "id": "46d93bd5",
   "metadata": {},
   "outputs": [
    {
     "data": {
      "text/plain": [
       "array(['test-setcionThis article originally appeared on Engadget at https://www.engadget.com/technology/computing/test-setcion-061926526.html?src=rss'],\n",
       "      dtype=object)"
      ]
     },
     "execution_count": 323,
     "metadata": {},
     "output_type": "execute_result"
    }
   ],
   "source": [
    "df.head(1)['description'].values"
   ]
  },
  {
   "cell_type": "markdown",
   "id": "8e7535ce",
   "metadata": {},
   "source": [
    "## Missing Data"
   ]
  },
  {
   "cell_type": "code",
   "execution_count": 324,
   "id": "727d4050",
   "metadata": {},
   "outputs": [
    {
     "data": {
      "text/plain": [
       "source           0\n",
       "author         120\n",
       "title            0\n",
       "description     17\n",
       "url              0\n",
       "urlToImage      79\n",
       "publishedAt      0\n",
       "content          0\n",
       "category         0\n",
       "dtype: int64"
      ]
     },
     "execution_count": 324,
     "metadata": {},
     "output_type": "execute_result"
    }
   ],
   "source": [
    "df.isnull().sum()"
   ]
  },
  {
   "cell_type": "code",
   "execution_count": 325,
   "id": "16b24830",
   "metadata": {},
   "outputs": [],
   "source": [
    "df = df.dropna(subset=['urlToImage', 'description'])"
   ]
  },
  {
   "cell_type": "code",
   "execution_count": 326,
   "id": "c35d19ad",
   "metadata": {},
   "outputs": [
    {
     "data": {
      "text/plain": [
       "source          0\n",
       "author         80\n",
       "title           0\n",
       "description     0\n",
       "url             0\n",
       "urlToImage      0\n",
       "publishedAt     0\n",
       "content         0\n",
       "category        0\n",
       "dtype: int64"
      ]
     },
     "execution_count": 326,
     "metadata": {},
     "output_type": "execute_result"
    }
   ],
   "source": [
    "df.isnull().sum()"
   ]
  },
  {
   "cell_type": "markdown",
   "id": "995ffa9d",
   "metadata": {},
   "source": [
    "## Duplicated Data"
   ]
  },
  {
   "cell_type": "code",
   "execution_count": 327,
   "id": "0c4c1364",
   "metadata": {},
   "outputs": [
    {
     "data": {
      "text/plain": [
       "0"
      ]
     },
     "execution_count": 327,
     "metadata": {},
     "output_type": "execute_result"
    }
   ],
   "source": [
    "df.duplicated().sum()"
   ]
  },
  {
   "cell_type": "code",
   "execution_count": 328,
   "id": "7f845228",
   "metadata": {},
   "outputs": [],
   "source": [
    "import re\n",
    "import nltk\n",
    "from nltk.corpus import stopwords\n",
    "from nltk.stem import WordNetLemmatizer"
   ]
  },
  {
   "cell_type": "code",
   "execution_count": 329,
   "id": "64900e4f",
   "metadata": {},
   "outputs": [
    {
     "data": {
      "text/plain": [
       "Index(['source', 'author', 'title', 'description', 'url', 'urlToImage',\n",
       "       'publishedAt', 'content', 'category'],\n",
       "      dtype='object')"
      ]
     },
     "execution_count": 329,
     "metadata": {},
     "output_type": "execute_result"
    }
   ],
   "source": [
    "df.columns"
   ]
  },
  {
   "cell_type": "code",
   "execution_count": 330,
   "id": "4aaf2e20",
   "metadata": {},
   "outputs": [
    {
     "data": {
      "text/html": [
       "<div>\n",
       "<style scoped>\n",
       "    .dataframe tbody tr th:only-of-type {\n",
       "        vertical-align: middle;\n",
       "    }\n",
       "\n",
       "    .dataframe tbody tr th {\n",
       "        vertical-align: top;\n",
       "    }\n",
       "\n",
       "    .dataframe thead th {\n",
       "        text-align: right;\n",
       "    }\n",
       "</style>\n",
       "<table border=\"1\" class=\"dataframe\">\n",
       "  <thead>\n",
       "    <tr style=\"text-align: right;\">\n",
       "      <th></th>\n",
       "      <th>source</th>\n",
       "      <th>author</th>\n",
       "      <th>title</th>\n",
       "      <th>description</th>\n",
       "      <th>url</th>\n",
       "      <th>urlToImage</th>\n",
       "      <th>publishedAt</th>\n",
       "      <th>content</th>\n",
       "      <th>category</th>\n",
       "    </tr>\n",
       "  </thead>\n",
       "  <tbody>\n",
       "    <tr>\n",
       "      <th>1</th>\n",
       "      <td>{'id': 'wired', 'name': 'Wired'}</td>\n",
       "      <td>Steven Levy</td>\n",
       "      <td>Don’t Let Mistrust of Tech Companies Blind You...</td>\n",
       "      <td>It’s OK to be doubtful of tech leaders’ grandi...</td>\n",
       "      <td>https://www.wired.com/story/dont-let-mistrust-...</td>\n",
       "      <td>https://media.wired.com/photos/66625436bd6c904...</td>\n",
       "      <td>2024-06-07T13:00:00Z</td>\n",
       "      <td>seems evident almost years first conference ar...</td>\n",
       "      <td>technology</td>\n",
       "    </tr>\n",
       "  </tbody>\n",
       "</table>\n",
       "</div>"
      ],
      "text/plain": [
       "                             source       author  \\\n",
       "1  {'id': 'wired', 'name': 'Wired'}  Steven Levy   \n",
       "\n",
       "                                               title  \\\n",
       "1  Don’t Let Mistrust of Tech Companies Blind You...   \n",
       "\n",
       "                                         description  \\\n",
       "1  It’s OK to be doubtful of tech leaders’ grandi...   \n",
       "\n",
       "                                                 url  \\\n",
       "1  https://www.wired.com/story/dont-let-mistrust-...   \n",
       "\n",
       "                                          urlToImage           publishedAt  \\\n",
       "1  https://media.wired.com/photos/66625436bd6c904...  2024-06-07T13:00:00Z   \n",
       "\n",
       "                                             content    category  \n",
       "1  seems evident almost years first conference ar...  technology  "
      ]
     },
     "execution_count": 330,
     "metadata": {},
     "output_type": "execute_result"
    }
   ],
   "source": [
    "df.head(1)"
   ]
  },
  {
   "cell_type": "code",
   "execution_count": 331,
   "id": "7200fff3",
   "metadata": {},
   "outputs": [
    {
     "data": {
      "text/plain": [
       "str"
      ]
     },
     "execution_count": 331,
     "metadata": {},
     "output_type": "execute_result"
    }
   ],
   "source": [
    "type(df['author'][1])"
   ]
  },
  {
   "cell_type": "code",
   "execution_count": 332,
   "id": "760e8b3f",
   "metadata": {},
   "outputs": [],
   "source": [
    "def removeSpace(name):\n",
    "    if pd.isna(name):\n",
    "        return name\n",
    "    return ''.join(name.split())"
   ]
  },
  {
   "cell_type": "code",
   "execution_count": 333,
   "id": "56cb39a9",
   "metadata": {},
   "outputs": [
    {
     "data": {
      "text/plain": [
       "'StevenLevy'"
      ]
     },
     "execution_count": 333,
     "metadata": {},
     "output_type": "execute_result"
    }
   ],
   "source": [
    "removeSpace(df['author'][1])"
   ]
  },
  {
   "cell_type": "code",
   "execution_count": 334,
   "id": "226ac309",
   "metadata": {},
   "outputs": [],
   "source": [
    "df['author'] = df['author'].apply(removeSpace)"
   ]
  },
  {
   "cell_type": "code",
   "execution_count": 335,
   "id": "ac9ff688",
   "metadata": {},
   "outputs": [
    {
     "data": {
      "text/html": [
       "<div>\n",
       "<style scoped>\n",
       "    .dataframe tbody tr th:only-of-type {\n",
       "        vertical-align: middle;\n",
       "    }\n",
       "\n",
       "    .dataframe tbody tr th {\n",
       "        vertical-align: top;\n",
       "    }\n",
       "\n",
       "    .dataframe thead th {\n",
       "        text-align: right;\n",
       "    }\n",
       "</style>\n",
       "<table border=\"1\" class=\"dataframe\">\n",
       "  <thead>\n",
       "    <tr style=\"text-align: right;\">\n",
       "      <th></th>\n",
       "      <th>source</th>\n",
       "      <th>author</th>\n",
       "      <th>title</th>\n",
       "      <th>description</th>\n",
       "      <th>url</th>\n",
       "      <th>urlToImage</th>\n",
       "      <th>publishedAt</th>\n",
       "      <th>content</th>\n",
       "      <th>category</th>\n",
       "    </tr>\n",
       "  </thead>\n",
       "  <tbody>\n",
       "    <tr>\n",
       "      <th>1</th>\n",
       "      <td>{'id': 'wired', 'name': 'Wired'}</td>\n",
       "      <td>StevenLevy</td>\n",
       "      <td>Don’t Let Mistrust of Tech Companies Blind You...</td>\n",
       "      <td>It’s OK to be doubtful of tech leaders’ grandi...</td>\n",
       "      <td>https://www.wired.com/story/dont-let-mistrust-...</td>\n",
       "      <td>https://media.wired.com/photos/66625436bd6c904...</td>\n",
       "      <td>2024-06-07T13:00:00Z</td>\n",
       "      <td>seems evident almost years first conference ar...</td>\n",
       "      <td>technology</td>\n",
       "    </tr>\n",
       "    <tr>\n",
       "      <th>2</th>\n",
       "      <td>{'id': 'wired', 'name': 'Wired'}</td>\n",
       "      <td>WillKnight</td>\n",
       "      <td>OpenAI Offers a Peek Inside the Guts of ChatGPT</td>\n",
       "      <td>Days after former employees said the company w...</td>\n",
       "      <td>https://www.wired.com/story/openai-offers-a-pe...</td>\n",
       "      <td>https://media.wired.com/photos/6661d484e7f0257...</td>\n",
       "      <td>2024-06-06T17:45:55Z</td>\n",
       "      <td>chatgpt developer openais approach building ar...</td>\n",
       "      <td>technology</td>\n",
       "    </tr>\n",
       "    <tr>\n",
       "      <th>3</th>\n",
       "      <td>{'id': 'wired', 'name': 'Wired'}</td>\n",
       "      <td>JasonParham</td>\n",
       "      <td>The Rebirth of Queer Cruising Apps</td>\n",
       "      <td>Looking for casual sex is often seen as taboo,...</td>\n",
       "      <td>https://www.wired.com/story/the-rebirth-of-que...</td>\n",
       "      <td>https://media.wired.com/photos/664fdffb3de340b...</td>\n",
       "      <td>2024-05-27T12:00:00Z</td>\n",
       "      <td>one night past february drinks moody bar light...</td>\n",
       "      <td>technology</td>\n",
       "    </tr>\n",
       "    <tr>\n",
       "      <th>5</th>\n",
       "      <td>{'id': 'wired', 'name': 'Wired'}</td>\n",
       "      <td>GeorgiaGee</td>\n",
       "      <td>Internal Emails Show How a Controversial Gun-D...</td>\n",
       "      <td>NYC mayor Eric Adams wants to test Evolv’s gun...</td>\n",
       "      <td>https://www.wired.com/story/evolv-gun-detectio...</td>\n",
       "      <td>https://media.wired.com/photos/6629392ea620d99...</td>\n",
       "      <td>2024-05-13T16:59:51Z</td>\n",
       "      <td>lot overlap former members nypd adams banks ca...</td>\n",
       "      <td>technology</td>\n",
       "    </tr>\n",
       "    <tr>\n",
       "      <th>7</th>\n",
       "      <td>{'id': None, 'name': 'Gizmodo.com'}</td>\n",
       "      <td>MaxwellZeff</td>\n",
       "      <td>OpenAI Unveils GPT-4 Omni’s Voice Capabilities...</td>\n",
       "      <td>OpenAI unveiled GPT-4 Omni (GPT-4o) during its...</td>\n",
       "      <td>https://gizmodo.com/openai-unveils-gpt-4-omni-...</td>\n",
       "      <td>https://i.kinja-img.com/image/upload/c_fill,h_...</td>\n",
       "      <td>2024-05-13T18:24:00Z</td>\n",
       "      <td>openai unveiled gpt omni gpt spring update mon...</td>\n",
       "      <td>technology</td>\n",
       "    </tr>\n",
       "  </tbody>\n",
       "</table>\n",
       "</div>"
      ],
      "text/plain": [
       "                                source       author  \\\n",
       "1     {'id': 'wired', 'name': 'Wired'}   StevenLevy   \n",
       "2     {'id': 'wired', 'name': 'Wired'}   WillKnight   \n",
       "3     {'id': 'wired', 'name': 'Wired'}  JasonParham   \n",
       "5     {'id': 'wired', 'name': 'Wired'}   GeorgiaGee   \n",
       "7  {'id': None, 'name': 'Gizmodo.com'}  MaxwellZeff   \n",
       "\n",
       "                                               title  \\\n",
       "1  Don’t Let Mistrust of Tech Companies Blind You...   \n",
       "2    OpenAI Offers a Peek Inside the Guts of ChatGPT   \n",
       "3                 The Rebirth of Queer Cruising Apps   \n",
       "5  Internal Emails Show How a Controversial Gun-D...   \n",
       "7  OpenAI Unveils GPT-4 Omni’s Voice Capabilities...   \n",
       "\n",
       "                                         description  \\\n",
       "1  It’s OK to be doubtful of tech leaders’ grandi...   \n",
       "2  Days after former employees said the company w...   \n",
       "3  Looking for casual sex is often seen as taboo,...   \n",
       "5  NYC mayor Eric Adams wants to test Evolv’s gun...   \n",
       "7  OpenAI unveiled GPT-4 Omni (GPT-4o) during its...   \n",
       "\n",
       "                                                 url  \\\n",
       "1  https://www.wired.com/story/dont-let-mistrust-...   \n",
       "2  https://www.wired.com/story/openai-offers-a-pe...   \n",
       "3  https://www.wired.com/story/the-rebirth-of-que...   \n",
       "5  https://www.wired.com/story/evolv-gun-detectio...   \n",
       "7  https://gizmodo.com/openai-unveils-gpt-4-omni-...   \n",
       "\n",
       "                                          urlToImage           publishedAt  \\\n",
       "1  https://media.wired.com/photos/66625436bd6c904...  2024-06-07T13:00:00Z   \n",
       "2  https://media.wired.com/photos/6661d484e7f0257...  2024-06-06T17:45:55Z   \n",
       "3  https://media.wired.com/photos/664fdffb3de340b...  2024-05-27T12:00:00Z   \n",
       "5  https://media.wired.com/photos/6629392ea620d99...  2024-05-13T16:59:51Z   \n",
       "7  https://i.kinja-img.com/image/upload/c_fill,h_...  2024-05-13T18:24:00Z   \n",
       "\n",
       "                                             content    category  \n",
       "1  seems evident almost years first conference ar...  technology  \n",
       "2  chatgpt developer openais approach building ar...  technology  \n",
       "3  one night past february drinks moody bar light...  technology  \n",
       "5  lot overlap former members nypd adams banks ca...  technology  \n",
       "7  openai unveiled gpt omni gpt spring update mon...  technology  "
      ]
     },
     "execution_count": 335,
     "metadata": {},
     "output_type": "execute_result"
    }
   ],
   "source": [
    "df.head()"
   ]
  },
  {
   "cell_type": "code",
   "execution_count": 336,
   "id": "c457bce1",
   "metadata": {},
   "outputs": [],
   "source": [
    "df['title'] = df['title'].apply(lambda x:x.split())"
   ]
  },
  {
   "cell_type": "code",
   "execution_count": 337,
   "id": "1793b3ab",
   "metadata": {},
   "outputs": [
    {
     "data": {
      "text/html": [
       "<div>\n",
       "<style scoped>\n",
       "    .dataframe tbody tr th:only-of-type {\n",
       "        vertical-align: middle;\n",
       "    }\n",
       "\n",
       "    .dataframe tbody tr th {\n",
       "        vertical-align: top;\n",
       "    }\n",
       "\n",
       "    .dataframe thead th {\n",
       "        text-align: right;\n",
       "    }\n",
       "</style>\n",
       "<table border=\"1\" class=\"dataframe\">\n",
       "  <thead>\n",
       "    <tr style=\"text-align: right;\">\n",
       "      <th></th>\n",
       "      <th>source</th>\n",
       "      <th>author</th>\n",
       "      <th>title</th>\n",
       "      <th>description</th>\n",
       "      <th>url</th>\n",
       "      <th>urlToImage</th>\n",
       "      <th>publishedAt</th>\n",
       "      <th>content</th>\n",
       "      <th>category</th>\n",
       "    </tr>\n",
       "  </thead>\n",
       "  <tbody>\n",
       "    <tr>\n",
       "      <th>1</th>\n",
       "      <td>{'id': 'wired', 'name': 'Wired'}</td>\n",
       "      <td>StevenLevy</td>\n",
       "      <td>[Don’t, Let, Mistrust, of, Tech, Companies, Bl...</td>\n",
       "      <td>It’s OK to be doubtful of tech leaders’ grandi...</td>\n",
       "      <td>https://www.wired.com/story/dont-let-mistrust-...</td>\n",
       "      <td>https://media.wired.com/photos/66625436bd6c904...</td>\n",
       "      <td>2024-06-07T13:00:00Z</td>\n",
       "      <td>seems evident almost years first conference ar...</td>\n",
       "      <td>technology</td>\n",
       "    </tr>\n",
       "    <tr>\n",
       "      <th>2</th>\n",
       "      <td>{'id': 'wired', 'name': 'Wired'}</td>\n",
       "      <td>WillKnight</td>\n",
       "      <td>[OpenAI, Offers, a, Peek, Inside, the, Guts, o...</td>\n",
       "      <td>Days after former employees said the company w...</td>\n",
       "      <td>https://www.wired.com/story/openai-offers-a-pe...</td>\n",
       "      <td>https://media.wired.com/photos/6661d484e7f0257...</td>\n",
       "      <td>2024-06-06T17:45:55Z</td>\n",
       "      <td>chatgpt developer openais approach building ar...</td>\n",
       "      <td>technology</td>\n",
       "    </tr>\n",
       "    <tr>\n",
       "      <th>3</th>\n",
       "      <td>{'id': 'wired', 'name': 'Wired'}</td>\n",
       "      <td>JasonParham</td>\n",
       "      <td>[The, Rebirth, of, Queer, Cruising, Apps]</td>\n",
       "      <td>Looking for casual sex is often seen as taboo,...</td>\n",
       "      <td>https://www.wired.com/story/the-rebirth-of-que...</td>\n",
       "      <td>https://media.wired.com/photos/664fdffb3de340b...</td>\n",
       "      <td>2024-05-27T12:00:00Z</td>\n",
       "      <td>one night past february drinks moody bar light...</td>\n",
       "      <td>technology</td>\n",
       "    </tr>\n",
       "    <tr>\n",
       "      <th>5</th>\n",
       "      <td>{'id': 'wired', 'name': 'Wired'}</td>\n",
       "      <td>GeorgiaGee</td>\n",
       "      <td>[Internal, Emails, Show, How, a, Controversial...</td>\n",
       "      <td>NYC mayor Eric Adams wants to test Evolv’s gun...</td>\n",
       "      <td>https://www.wired.com/story/evolv-gun-detectio...</td>\n",
       "      <td>https://media.wired.com/photos/6629392ea620d99...</td>\n",
       "      <td>2024-05-13T16:59:51Z</td>\n",
       "      <td>lot overlap former members nypd adams banks ca...</td>\n",
       "      <td>technology</td>\n",
       "    </tr>\n",
       "    <tr>\n",
       "      <th>7</th>\n",
       "      <td>{'id': None, 'name': 'Gizmodo.com'}</td>\n",
       "      <td>MaxwellZeff</td>\n",
       "      <td>[OpenAI, Unveils, GPT-4, Omni’s, Voice, Capabi...</td>\n",
       "      <td>OpenAI unveiled GPT-4 Omni (GPT-4o) during its...</td>\n",
       "      <td>https://gizmodo.com/openai-unveils-gpt-4-omni-...</td>\n",
       "      <td>https://i.kinja-img.com/image/upload/c_fill,h_...</td>\n",
       "      <td>2024-05-13T18:24:00Z</td>\n",
       "      <td>openai unveiled gpt omni gpt spring update mon...</td>\n",
       "      <td>technology</td>\n",
       "    </tr>\n",
       "  </tbody>\n",
       "</table>\n",
       "</div>"
      ],
      "text/plain": [
       "                                source       author  \\\n",
       "1     {'id': 'wired', 'name': 'Wired'}   StevenLevy   \n",
       "2     {'id': 'wired', 'name': 'Wired'}   WillKnight   \n",
       "3     {'id': 'wired', 'name': 'Wired'}  JasonParham   \n",
       "5     {'id': 'wired', 'name': 'Wired'}   GeorgiaGee   \n",
       "7  {'id': None, 'name': 'Gizmodo.com'}  MaxwellZeff   \n",
       "\n",
       "                                               title  \\\n",
       "1  [Don’t, Let, Mistrust, of, Tech, Companies, Bl...   \n",
       "2  [OpenAI, Offers, a, Peek, Inside, the, Guts, o...   \n",
       "3          [The, Rebirth, of, Queer, Cruising, Apps]   \n",
       "5  [Internal, Emails, Show, How, a, Controversial...   \n",
       "7  [OpenAI, Unveils, GPT-4, Omni’s, Voice, Capabi...   \n",
       "\n",
       "                                         description  \\\n",
       "1  It’s OK to be doubtful of tech leaders’ grandi...   \n",
       "2  Days after former employees said the company w...   \n",
       "3  Looking for casual sex is often seen as taboo,...   \n",
       "5  NYC mayor Eric Adams wants to test Evolv’s gun...   \n",
       "7  OpenAI unveiled GPT-4 Omni (GPT-4o) during its...   \n",
       "\n",
       "                                                 url  \\\n",
       "1  https://www.wired.com/story/dont-let-mistrust-...   \n",
       "2  https://www.wired.com/story/openai-offers-a-pe...   \n",
       "3  https://www.wired.com/story/the-rebirth-of-que...   \n",
       "5  https://www.wired.com/story/evolv-gun-detectio...   \n",
       "7  https://gizmodo.com/openai-unveils-gpt-4-omni-...   \n",
       "\n",
       "                                          urlToImage           publishedAt  \\\n",
       "1  https://media.wired.com/photos/66625436bd6c904...  2024-06-07T13:00:00Z   \n",
       "2  https://media.wired.com/photos/6661d484e7f0257...  2024-06-06T17:45:55Z   \n",
       "3  https://media.wired.com/photos/664fdffb3de340b...  2024-05-27T12:00:00Z   \n",
       "5  https://media.wired.com/photos/6629392ea620d99...  2024-05-13T16:59:51Z   \n",
       "7  https://i.kinja-img.com/image/upload/c_fill,h_...  2024-05-13T18:24:00Z   \n",
       "\n",
       "                                             content    category  \n",
       "1  seems evident almost years first conference ar...  technology  \n",
       "2  chatgpt developer openais approach building ar...  technology  \n",
       "3  one night past february drinks moody bar light...  technology  \n",
       "5  lot overlap former members nypd adams banks ca...  technology  \n",
       "7  openai unveiled gpt omni gpt spring update mon...  technology  "
      ]
     },
     "execution_count": 337,
     "metadata": {},
     "output_type": "execute_result"
    }
   ],
   "source": [
    "df.head()"
   ]
  },
  {
   "cell_type": "code",
   "execution_count": 338,
   "id": "9009a446",
   "metadata": {},
   "outputs": [],
   "source": [
    "df['description'] = df['description'].apply(lambda x:x.split())"
   ]
  },
  {
   "cell_type": "code",
   "execution_count": 339,
   "id": "4583f62f",
   "metadata": {},
   "outputs": [],
   "source": [
    "df['content'] = df['content'].apply(lambda x:x.split())"
   ]
  },
  {
   "cell_type": "code",
   "execution_count": 340,
   "id": "7f1936e5",
   "metadata": {},
   "outputs": [
    {
     "data": {
      "text/html": [
       "<div>\n",
       "<style scoped>\n",
       "    .dataframe tbody tr th:only-of-type {\n",
       "        vertical-align: middle;\n",
       "    }\n",
       "\n",
       "    .dataframe tbody tr th {\n",
       "        vertical-align: top;\n",
       "    }\n",
       "\n",
       "    .dataframe thead th {\n",
       "        text-align: right;\n",
       "    }\n",
       "</style>\n",
       "<table border=\"1\" class=\"dataframe\">\n",
       "  <thead>\n",
       "    <tr style=\"text-align: right;\">\n",
       "      <th></th>\n",
       "      <th>source</th>\n",
       "      <th>author</th>\n",
       "      <th>title</th>\n",
       "      <th>description</th>\n",
       "      <th>url</th>\n",
       "      <th>urlToImage</th>\n",
       "      <th>publishedAt</th>\n",
       "      <th>content</th>\n",
       "      <th>category</th>\n",
       "    </tr>\n",
       "  </thead>\n",
       "  <tbody>\n",
       "    <tr>\n",
       "      <th>1</th>\n",
       "      <td>{'id': 'wired', 'name': 'Wired'}</td>\n",
       "      <td>StevenLevy</td>\n",
       "      <td>[Don’t, Let, Mistrust, of, Tech, Companies, Bl...</td>\n",
       "      <td>[It’s, OK, to, be, doubtful, of, tech, leaders...</td>\n",
       "      <td>https://www.wired.com/story/dont-let-mistrust-...</td>\n",
       "      <td>https://media.wired.com/photos/66625436bd6c904...</td>\n",
       "      <td>2024-06-07T13:00:00Z</td>\n",
       "      <td>[seems, evident, almost, years, first, confere...</td>\n",
       "      <td>technology</td>\n",
       "    </tr>\n",
       "    <tr>\n",
       "      <th>2</th>\n",
       "      <td>{'id': 'wired', 'name': 'Wired'}</td>\n",
       "      <td>WillKnight</td>\n",
       "      <td>[OpenAI, Offers, a, Peek, Inside, the, Guts, o...</td>\n",
       "      <td>[Days, after, former, employees, said, the, co...</td>\n",
       "      <td>https://www.wired.com/story/openai-offers-a-pe...</td>\n",
       "      <td>https://media.wired.com/photos/6661d484e7f0257...</td>\n",
       "      <td>2024-06-06T17:45:55Z</td>\n",
       "      <td>[chatgpt, developer, openais, approach, buildi...</td>\n",
       "      <td>technology</td>\n",
       "    </tr>\n",
       "    <tr>\n",
       "      <th>3</th>\n",
       "      <td>{'id': 'wired', 'name': 'Wired'}</td>\n",
       "      <td>JasonParham</td>\n",
       "      <td>[The, Rebirth, of, Queer, Cruising, Apps]</td>\n",
       "      <td>[Looking, for, casual, sex, is, often, seen, a...</td>\n",
       "      <td>https://www.wired.com/story/the-rebirth-of-que...</td>\n",
       "      <td>https://media.wired.com/photos/664fdffb3de340b...</td>\n",
       "      <td>2024-05-27T12:00:00Z</td>\n",
       "      <td>[one, night, past, february, drinks, moody, ba...</td>\n",
       "      <td>technology</td>\n",
       "    </tr>\n",
       "    <tr>\n",
       "      <th>5</th>\n",
       "      <td>{'id': 'wired', 'name': 'Wired'}</td>\n",
       "      <td>GeorgiaGee</td>\n",
       "      <td>[Internal, Emails, Show, How, a, Controversial...</td>\n",
       "      <td>[NYC, mayor, Eric, Adams, wants, to, test, Evo...</td>\n",
       "      <td>https://www.wired.com/story/evolv-gun-detectio...</td>\n",
       "      <td>https://media.wired.com/photos/6629392ea620d99...</td>\n",
       "      <td>2024-05-13T16:59:51Z</td>\n",
       "      <td>[lot, overlap, former, members, nypd, adams, b...</td>\n",
       "      <td>technology</td>\n",
       "    </tr>\n",
       "    <tr>\n",
       "      <th>7</th>\n",
       "      <td>{'id': None, 'name': 'Gizmodo.com'}</td>\n",
       "      <td>MaxwellZeff</td>\n",
       "      <td>[OpenAI, Unveils, GPT-4, Omni’s, Voice, Capabi...</td>\n",
       "      <td>[OpenAI, unveiled, GPT-4, Omni, (GPT-4o), duri...</td>\n",
       "      <td>https://gizmodo.com/openai-unveils-gpt-4-omni-...</td>\n",
       "      <td>https://i.kinja-img.com/image/upload/c_fill,h_...</td>\n",
       "      <td>2024-05-13T18:24:00Z</td>\n",
       "      <td>[openai, unveiled, gpt, omni, gpt, spring, upd...</td>\n",
       "      <td>technology</td>\n",
       "    </tr>\n",
       "  </tbody>\n",
       "</table>\n",
       "</div>"
      ],
      "text/plain": [
       "                                source       author  \\\n",
       "1     {'id': 'wired', 'name': 'Wired'}   StevenLevy   \n",
       "2     {'id': 'wired', 'name': 'Wired'}   WillKnight   \n",
       "3     {'id': 'wired', 'name': 'Wired'}  JasonParham   \n",
       "5     {'id': 'wired', 'name': 'Wired'}   GeorgiaGee   \n",
       "7  {'id': None, 'name': 'Gizmodo.com'}  MaxwellZeff   \n",
       "\n",
       "                                               title  \\\n",
       "1  [Don’t, Let, Mistrust, of, Tech, Companies, Bl...   \n",
       "2  [OpenAI, Offers, a, Peek, Inside, the, Guts, o...   \n",
       "3          [The, Rebirth, of, Queer, Cruising, Apps]   \n",
       "5  [Internal, Emails, Show, How, a, Controversial...   \n",
       "7  [OpenAI, Unveils, GPT-4, Omni’s, Voice, Capabi...   \n",
       "\n",
       "                                         description  \\\n",
       "1  [It’s, OK, to, be, doubtful, of, tech, leaders...   \n",
       "2  [Days, after, former, employees, said, the, co...   \n",
       "3  [Looking, for, casual, sex, is, often, seen, a...   \n",
       "5  [NYC, mayor, Eric, Adams, wants, to, test, Evo...   \n",
       "7  [OpenAI, unveiled, GPT-4, Omni, (GPT-4o), duri...   \n",
       "\n",
       "                                                 url  \\\n",
       "1  https://www.wired.com/story/dont-let-mistrust-...   \n",
       "2  https://www.wired.com/story/openai-offers-a-pe...   \n",
       "3  https://www.wired.com/story/the-rebirth-of-que...   \n",
       "5  https://www.wired.com/story/evolv-gun-detectio...   \n",
       "7  https://gizmodo.com/openai-unveils-gpt-4-omni-...   \n",
       "\n",
       "                                          urlToImage           publishedAt  \\\n",
       "1  https://media.wired.com/photos/66625436bd6c904...  2024-06-07T13:00:00Z   \n",
       "2  https://media.wired.com/photos/6661d484e7f0257...  2024-06-06T17:45:55Z   \n",
       "3  https://media.wired.com/photos/664fdffb3de340b...  2024-05-27T12:00:00Z   \n",
       "5  https://media.wired.com/photos/6629392ea620d99...  2024-05-13T16:59:51Z   \n",
       "7  https://i.kinja-img.com/image/upload/c_fill,h_...  2024-05-13T18:24:00Z   \n",
       "\n",
       "                                             content    category  \n",
       "1  [seems, evident, almost, years, first, confere...  technology  \n",
       "2  [chatgpt, developer, openais, approach, buildi...  technology  \n",
       "3  [one, night, past, february, drinks, moody, ba...  technology  \n",
       "5  [lot, overlap, former, members, nypd, adams, b...  technology  \n",
       "7  [openai, unveiled, gpt, omni, gpt, spring, upd...  technology  "
      ]
     },
     "execution_count": 340,
     "metadata": {},
     "output_type": "execute_result"
    }
   ],
   "source": [
    "df.head()"
   ]
  },
  {
   "cell_type": "code",
   "execution_count": 341,
   "id": "5b39a1f8",
   "metadata": {},
   "outputs": [],
   "source": [
    "def safe_word_to_list(word):\n",
    "    L = []\n",
    "    if isinstance(word, str):\n",
    "        L.append(word)\n",
    "        return L"
   ]
  },
  {
   "cell_type": "code",
   "execution_count": 342,
   "id": "ddcbfea2",
   "metadata": {},
   "outputs": [],
   "source": [
    "df['author'] = df['author'].apply(safe_word_to_list)"
   ]
  },
  {
   "cell_type": "code",
   "execution_count": 343,
   "id": "556fce5f",
   "metadata": {},
   "outputs": [
    {
     "data": {
      "text/html": [
       "<div>\n",
       "<style scoped>\n",
       "    .dataframe tbody tr th:only-of-type {\n",
       "        vertical-align: middle;\n",
       "    }\n",
       "\n",
       "    .dataframe tbody tr th {\n",
       "        vertical-align: top;\n",
       "    }\n",
       "\n",
       "    .dataframe thead th {\n",
       "        text-align: right;\n",
       "    }\n",
       "</style>\n",
       "<table border=\"1\" class=\"dataframe\">\n",
       "  <thead>\n",
       "    <tr style=\"text-align: right;\">\n",
       "      <th></th>\n",
       "      <th>source</th>\n",
       "      <th>author</th>\n",
       "      <th>title</th>\n",
       "      <th>description</th>\n",
       "      <th>url</th>\n",
       "      <th>urlToImage</th>\n",
       "      <th>publishedAt</th>\n",
       "      <th>content</th>\n",
       "      <th>category</th>\n",
       "    </tr>\n",
       "  </thead>\n",
       "  <tbody>\n",
       "    <tr>\n",
       "      <th>1</th>\n",
       "      <td>{'id': 'wired', 'name': 'Wired'}</td>\n",
       "      <td>[StevenLevy]</td>\n",
       "      <td>[Don’t, Let, Mistrust, of, Tech, Companies, Bl...</td>\n",
       "      <td>[It’s, OK, to, be, doubtful, of, tech, leaders...</td>\n",
       "      <td>https://www.wired.com/story/dont-let-mistrust-...</td>\n",
       "      <td>https://media.wired.com/photos/66625436bd6c904...</td>\n",
       "      <td>2024-06-07T13:00:00Z</td>\n",
       "      <td>[seems, evident, almost, years, first, confere...</td>\n",
       "      <td>[technology]</td>\n",
       "    </tr>\n",
       "    <tr>\n",
       "      <th>2</th>\n",
       "      <td>{'id': 'wired', 'name': 'Wired'}</td>\n",
       "      <td>[WillKnight]</td>\n",
       "      <td>[OpenAI, Offers, a, Peek, Inside, the, Guts, o...</td>\n",
       "      <td>[Days, after, former, employees, said, the, co...</td>\n",
       "      <td>https://www.wired.com/story/openai-offers-a-pe...</td>\n",
       "      <td>https://media.wired.com/photos/6661d484e7f0257...</td>\n",
       "      <td>2024-06-06T17:45:55Z</td>\n",
       "      <td>[chatgpt, developer, openais, approach, buildi...</td>\n",
       "      <td>[technology]</td>\n",
       "    </tr>\n",
       "    <tr>\n",
       "      <th>3</th>\n",
       "      <td>{'id': 'wired', 'name': 'Wired'}</td>\n",
       "      <td>[JasonParham]</td>\n",
       "      <td>[The, Rebirth, of, Queer, Cruising, Apps]</td>\n",
       "      <td>[Looking, for, casual, sex, is, often, seen, a...</td>\n",
       "      <td>https://www.wired.com/story/the-rebirth-of-que...</td>\n",
       "      <td>https://media.wired.com/photos/664fdffb3de340b...</td>\n",
       "      <td>2024-05-27T12:00:00Z</td>\n",
       "      <td>[one, night, past, february, drinks, moody, ba...</td>\n",
       "      <td>[technology]</td>\n",
       "    </tr>\n",
       "    <tr>\n",
       "      <th>5</th>\n",
       "      <td>{'id': 'wired', 'name': 'Wired'}</td>\n",
       "      <td>[GeorgiaGee]</td>\n",
       "      <td>[Internal, Emails, Show, How, a, Controversial...</td>\n",
       "      <td>[NYC, mayor, Eric, Adams, wants, to, test, Evo...</td>\n",
       "      <td>https://www.wired.com/story/evolv-gun-detectio...</td>\n",
       "      <td>https://media.wired.com/photos/6629392ea620d99...</td>\n",
       "      <td>2024-05-13T16:59:51Z</td>\n",
       "      <td>[lot, overlap, former, members, nypd, adams, b...</td>\n",
       "      <td>[technology]</td>\n",
       "    </tr>\n",
       "    <tr>\n",
       "      <th>7</th>\n",
       "      <td>{'id': None, 'name': 'Gizmodo.com'}</td>\n",
       "      <td>[MaxwellZeff]</td>\n",
       "      <td>[OpenAI, Unveils, GPT-4, Omni’s, Voice, Capabi...</td>\n",
       "      <td>[OpenAI, unveiled, GPT-4, Omni, (GPT-4o), duri...</td>\n",
       "      <td>https://gizmodo.com/openai-unveils-gpt-4-omni-...</td>\n",
       "      <td>https://i.kinja-img.com/image/upload/c_fill,h_...</td>\n",
       "      <td>2024-05-13T18:24:00Z</td>\n",
       "      <td>[openai, unveiled, gpt, omni, gpt, spring, upd...</td>\n",
       "      <td>[technology]</td>\n",
       "    </tr>\n",
       "  </tbody>\n",
       "</table>\n",
       "</div>"
      ],
      "text/plain": [
       "                                source         author  \\\n",
       "1     {'id': 'wired', 'name': 'Wired'}   [StevenLevy]   \n",
       "2     {'id': 'wired', 'name': 'Wired'}   [WillKnight]   \n",
       "3     {'id': 'wired', 'name': 'Wired'}  [JasonParham]   \n",
       "5     {'id': 'wired', 'name': 'Wired'}   [GeorgiaGee]   \n",
       "7  {'id': None, 'name': 'Gizmodo.com'}  [MaxwellZeff]   \n",
       "\n",
       "                                               title  \\\n",
       "1  [Don’t, Let, Mistrust, of, Tech, Companies, Bl...   \n",
       "2  [OpenAI, Offers, a, Peek, Inside, the, Guts, o...   \n",
       "3          [The, Rebirth, of, Queer, Cruising, Apps]   \n",
       "5  [Internal, Emails, Show, How, a, Controversial...   \n",
       "7  [OpenAI, Unveils, GPT-4, Omni’s, Voice, Capabi...   \n",
       "\n",
       "                                         description  \\\n",
       "1  [It’s, OK, to, be, doubtful, of, tech, leaders...   \n",
       "2  [Days, after, former, employees, said, the, co...   \n",
       "3  [Looking, for, casual, sex, is, often, seen, a...   \n",
       "5  [NYC, mayor, Eric, Adams, wants, to, test, Evo...   \n",
       "7  [OpenAI, unveiled, GPT-4, Omni, (GPT-4o), duri...   \n",
       "\n",
       "                                                 url  \\\n",
       "1  https://www.wired.com/story/dont-let-mistrust-...   \n",
       "2  https://www.wired.com/story/openai-offers-a-pe...   \n",
       "3  https://www.wired.com/story/the-rebirth-of-que...   \n",
       "5  https://www.wired.com/story/evolv-gun-detectio...   \n",
       "7  https://gizmodo.com/openai-unveils-gpt-4-omni-...   \n",
       "\n",
       "                                          urlToImage           publishedAt  \\\n",
       "1  https://media.wired.com/photos/66625436bd6c904...  2024-06-07T13:00:00Z   \n",
       "2  https://media.wired.com/photos/6661d484e7f0257...  2024-06-06T17:45:55Z   \n",
       "3  https://media.wired.com/photos/664fdffb3de340b...  2024-05-27T12:00:00Z   \n",
       "5  https://media.wired.com/photos/6629392ea620d99...  2024-05-13T16:59:51Z   \n",
       "7  https://i.kinja-img.com/image/upload/c_fill,h_...  2024-05-13T18:24:00Z   \n",
       "\n",
       "                                             content      category  \n",
       "1  [seems, evident, almost, years, first, confere...  [technology]  \n",
       "2  [chatgpt, developer, openais, approach, buildi...  [technology]  \n",
       "3  [one, night, past, february, drinks, moody, ba...  [technology]  \n",
       "5  [lot, overlap, former, members, nypd, adams, b...  [technology]  \n",
       "7  [openai, unveiled, gpt, omni, gpt, spring, upd...  [technology]  "
      ]
     },
     "execution_count": 343,
     "metadata": {},
     "output_type": "execute_result"
    }
   ],
   "source": [
    "df['category'] = df['category'].apply(safe_word_to_list)\n",
    "df.head()"
   ]
  },
  {
   "cell_type": "code",
   "execution_count": 344,
   "id": "e0727bf0",
   "metadata": {},
   "outputs": [
    {
     "data": {
      "text/plain": [
       "str"
      ]
     },
     "execution_count": 344,
     "metadata": {},
     "output_type": "execute_result"
    }
   ],
   "source": [
    "type(df['source'][1])"
   ]
  },
  {
   "cell_type": "code",
   "execution_count": 345,
   "id": "44b694b1",
   "metadata": {},
   "outputs": [
    {
     "data": {
      "text/plain": [
       "\"{'id': 'wired', 'name': 'Wired'}\""
      ]
     },
     "execution_count": 345,
     "metadata": {},
     "output_type": "execute_result"
    }
   ],
   "source": [
    "df['source'][1]"
   ]
  },
  {
   "cell_type": "code",
   "execution_count": 346,
   "id": "3961b7ba",
   "metadata": {},
   "outputs": [],
   "source": [
    "def extract_name(source_str):\n",
    "    if pd.isna(source_str):\n",
    "        return None\n",
    "    \n",
    "    try:\n",
    "        source_dict = ast.literal_eval(source_str)  # Safely evaluate the string as a dictionary\n",
    "        return source_dict.get('name', None)  # Return the value associated with 'name' key\n",
    "    except ValueError:\n",
    "        return None"
   ]
  },
  {
   "cell_type": "code",
   "execution_count": 347,
   "id": "24fb1b41",
   "metadata": {},
   "outputs": [
    {
     "data": {
      "text/html": [
       "<div>\n",
       "<style scoped>\n",
       "    .dataframe tbody tr th:only-of-type {\n",
       "        vertical-align: middle;\n",
       "    }\n",
       "\n",
       "    .dataframe tbody tr th {\n",
       "        vertical-align: top;\n",
       "    }\n",
       "\n",
       "    .dataframe thead th {\n",
       "        text-align: right;\n",
       "    }\n",
       "</style>\n",
       "<table border=\"1\" class=\"dataframe\">\n",
       "  <thead>\n",
       "    <tr style=\"text-align: right;\">\n",
       "      <th></th>\n",
       "      <th>source</th>\n",
       "      <th>author</th>\n",
       "      <th>title</th>\n",
       "      <th>description</th>\n",
       "      <th>url</th>\n",
       "      <th>urlToImage</th>\n",
       "      <th>publishedAt</th>\n",
       "      <th>content</th>\n",
       "      <th>category</th>\n",
       "    </tr>\n",
       "  </thead>\n",
       "  <tbody>\n",
       "    <tr>\n",
       "      <th>1</th>\n",
       "      <td>Wired</td>\n",
       "      <td>[StevenLevy]</td>\n",
       "      <td>[Don’t, Let, Mistrust, of, Tech, Companies, Bl...</td>\n",
       "      <td>[It’s, OK, to, be, doubtful, of, tech, leaders...</td>\n",
       "      <td>https://www.wired.com/story/dont-let-mistrust-...</td>\n",
       "      <td>https://media.wired.com/photos/66625436bd6c904...</td>\n",
       "      <td>2024-06-07T13:00:00Z</td>\n",
       "      <td>[seems, evident, almost, years, first, confere...</td>\n",
       "      <td>[technology]</td>\n",
       "    </tr>\n",
       "    <tr>\n",
       "      <th>2</th>\n",
       "      <td>Wired</td>\n",
       "      <td>[WillKnight]</td>\n",
       "      <td>[OpenAI, Offers, a, Peek, Inside, the, Guts, o...</td>\n",
       "      <td>[Days, after, former, employees, said, the, co...</td>\n",
       "      <td>https://www.wired.com/story/openai-offers-a-pe...</td>\n",
       "      <td>https://media.wired.com/photos/6661d484e7f0257...</td>\n",
       "      <td>2024-06-06T17:45:55Z</td>\n",
       "      <td>[chatgpt, developer, openais, approach, buildi...</td>\n",
       "      <td>[technology]</td>\n",
       "    </tr>\n",
       "    <tr>\n",
       "      <th>3</th>\n",
       "      <td>Wired</td>\n",
       "      <td>[JasonParham]</td>\n",
       "      <td>[The, Rebirth, of, Queer, Cruising, Apps]</td>\n",
       "      <td>[Looking, for, casual, sex, is, often, seen, a...</td>\n",
       "      <td>https://www.wired.com/story/the-rebirth-of-que...</td>\n",
       "      <td>https://media.wired.com/photos/664fdffb3de340b...</td>\n",
       "      <td>2024-05-27T12:00:00Z</td>\n",
       "      <td>[one, night, past, february, drinks, moody, ba...</td>\n",
       "      <td>[technology]</td>\n",
       "    </tr>\n",
       "    <tr>\n",
       "      <th>5</th>\n",
       "      <td>Wired</td>\n",
       "      <td>[GeorgiaGee]</td>\n",
       "      <td>[Internal, Emails, Show, How, a, Controversial...</td>\n",
       "      <td>[NYC, mayor, Eric, Adams, wants, to, test, Evo...</td>\n",
       "      <td>https://www.wired.com/story/evolv-gun-detectio...</td>\n",
       "      <td>https://media.wired.com/photos/6629392ea620d99...</td>\n",
       "      <td>2024-05-13T16:59:51Z</td>\n",
       "      <td>[lot, overlap, former, members, nypd, adams, b...</td>\n",
       "      <td>[technology]</td>\n",
       "    </tr>\n",
       "    <tr>\n",
       "      <th>7</th>\n",
       "      <td>Gizmodo.com</td>\n",
       "      <td>[MaxwellZeff]</td>\n",
       "      <td>[OpenAI, Unveils, GPT-4, Omni’s, Voice, Capabi...</td>\n",
       "      <td>[OpenAI, unveiled, GPT-4, Omni, (GPT-4o), duri...</td>\n",
       "      <td>https://gizmodo.com/openai-unveils-gpt-4-omni-...</td>\n",
       "      <td>https://i.kinja-img.com/image/upload/c_fill,h_...</td>\n",
       "      <td>2024-05-13T18:24:00Z</td>\n",
       "      <td>[openai, unveiled, gpt, omni, gpt, spring, upd...</td>\n",
       "      <td>[technology]</td>\n",
       "    </tr>\n",
       "  </tbody>\n",
       "</table>\n",
       "</div>"
      ],
      "text/plain": [
       "        source         author  \\\n",
       "1        Wired   [StevenLevy]   \n",
       "2        Wired   [WillKnight]   \n",
       "3        Wired  [JasonParham]   \n",
       "5        Wired   [GeorgiaGee]   \n",
       "7  Gizmodo.com  [MaxwellZeff]   \n",
       "\n",
       "                                               title  \\\n",
       "1  [Don’t, Let, Mistrust, of, Tech, Companies, Bl...   \n",
       "2  [OpenAI, Offers, a, Peek, Inside, the, Guts, o...   \n",
       "3          [The, Rebirth, of, Queer, Cruising, Apps]   \n",
       "5  [Internal, Emails, Show, How, a, Controversial...   \n",
       "7  [OpenAI, Unveils, GPT-4, Omni’s, Voice, Capabi...   \n",
       "\n",
       "                                         description  \\\n",
       "1  [It’s, OK, to, be, doubtful, of, tech, leaders...   \n",
       "2  [Days, after, former, employees, said, the, co...   \n",
       "3  [Looking, for, casual, sex, is, often, seen, a...   \n",
       "5  [NYC, mayor, Eric, Adams, wants, to, test, Evo...   \n",
       "7  [OpenAI, unveiled, GPT-4, Omni, (GPT-4o), duri...   \n",
       "\n",
       "                                                 url  \\\n",
       "1  https://www.wired.com/story/dont-let-mistrust-...   \n",
       "2  https://www.wired.com/story/openai-offers-a-pe...   \n",
       "3  https://www.wired.com/story/the-rebirth-of-que...   \n",
       "5  https://www.wired.com/story/evolv-gun-detectio...   \n",
       "7  https://gizmodo.com/openai-unveils-gpt-4-omni-...   \n",
       "\n",
       "                                          urlToImage           publishedAt  \\\n",
       "1  https://media.wired.com/photos/66625436bd6c904...  2024-06-07T13:00:00Z   \n",
       "2  https://media.wired.com/photos/6661d484e7f0257...  2024-06-06T17:45:55Z   \n",
       "3  https://media.wired.com/photos/664fdffb3de340b...  2024-05-27T12:00:00Z   \n",
       "5  https://media.wired.com/photos/6629392ea620d99...  2024-05-13T16:59:51Z   \n",
       "7  https://i.kinja-img.com/image/upload/c_fill,h_...  2024-05-13T18:24:00Z   \n",
       "\n",
       "                                             content      category  \n",
       "1  [seems, evident, almost, years, first, confere...  [technology]  \n",
       "2  [chatgpt, developer, openais, approach, buildi...  [technology]  \n",
       "3  [one, night, past, february, drinks, moody, ba...  [technology]  \n",
       "5  [lot, overlap, former, members, nypd, adams, b...  [technology]  \n",
       "7  [openai, unveiled, gpt, omni, gpt, spring, upd...  [technology]  "
      ]
     },
     "execution_count": 347,
     "metadata": {},
     "output_type": "execute_result"
    }
   ],
   "source": [
    "df['source'] = df['source'].apply(extract_name)\n",
    "df.head()"
   ]
  },
  {
   "cell_type": "code",
   "execution_count": 348,
   "id": "33b36705",
   "metadata": {},
   "outputs": [
    {
     "data": {
      "text/html": [
       "<div>\n",
       "<style scoped>\n",
       "    .dataframe tbody tr th:only-of-type {\n",
       "        vertical-align: middle;\n",
       "    }\n",
       "\n",
       "    .dataframe tbody tr th {\n",
       "        vertical-align: top;\n",
       "    }\n",
       "\n",
       "    .dataframe thead th {\n",
       "        text-align: right;\n",
       "    }\n",
       "</style>\n",
       "<table border=\"1\" class=\"dataframe\">\n",
       "  <thead>\n",
       "    <tr style=\"text-align: right;\">\n",
       "      <th></th>\n",
       "      <th>source</th>\n",
       "      <th>author</th>\n",
       "      <th>title</th>\n",
       "      <th>description</th>\n",
       "      <th>url</th>\n",
       "      <th>urlToImage</th>\n",
       "      <th>publishedAt</th>\n",
       "      <th>content</th>\n",
       "      <th>category</th>\n",
       "    </tr>\n",
       "  </thead>\n",
       "  <tbody>\n",
       "    <tr>\n",
       "      <th>1</th>\n",
       "      <td>[Wired]</td>\n",
       "      <td>[StevenLevy]</td>\n",
       "      <td>[Don’t, Let, Mistrust, of, Tech, Companies, Bl...</td>\n",
       "      <td>[It’s, OK, to, be, doubtful, of, tech, leaders...</td>\n",
       "      <td>https://www.wired.com/story/dont-let-mistrust-...</td>\n",
       "      <td>https://media.wired.com/photos/66625436bd6c904...</td>\n",
       "      <td>2024-06-07T13:00:00Z</td>\n",
       "      <td>[seems, evident, almost, years, first, confere...</td>\n",
       "      <td>[technology]</td>\n",
       "    </tr>\n",
       "    <tr>\n",
       "      <th>2</th>\n",
       "      <td>[Wired]</td>\n",
       "      <td>[WillKnight]</td>\n",
       "      <td>[OpenAI, Offers, a, Peek, Inside, the, Guts, o...</td>\n",
       "      <td>[Days, after, former, employees, said, the, co...</td>\n",
       "      <td>https://www.wired.com/story/openai-offers-a-pe...</td>\n",
       "      <td>https://media.wired.com/photos/6661d484e7f0257...</td>\n",
       "      <td>2024-06-06T17:45:55Z</td>\n",
       "      <td>[chatgpt, developer, openais, approach, buildi...</td>\n",
       "      <td>[technology]</td>\n",
       "    </tr>\n",
       "    <tr>\n",
       "      <th>3</th>\n",
       "      <td>[Wired]</td>\n",
       "      <td>[JasonParham]</td>\n",
       "      <td>[The, Rebirth, of, Queer, Cruising, Apps]</td>\n",
       "      <td>[Looking, for, casual, sex, is, often, seen, a...</td>\n",
       "      <td>https://www.wired.com/story/the-rebirth-of-que...</td>\n",
       "      <td>https://media.wired.com/photos/664fdffb3de340b...</td>\n",
       "      <td>2024-05-27T12:00:00Z</td>\n",
       "      <td>[one, night, past, february, drinks, moody, ba...</td>\n",
       "      <td>[technology]</td>\n",
       "    </tr>\n",
       "    <tr>\n",
       "      <th>5</th>\n",
       "      <td>[Wired]</td>\n",
       "      <td>[GeorgiaGee]</td>\n",
       "      <td>[Internal, Emails, Show, How, a, Controversial...</td>\n",
       "      <td>[NYC, mayor, Eric, Adams, wants, to, test, Evo...</td>\n",
       "      <td>https://www.wired.com/story/evolv-gun-detectio...</td>\n",
       "      <td>https://media.wired.com/photos/6629392ea620d99...</td>\n",
       "      <td>2024-05-13T16:59:51Z</td>\n",
       "      <td>[lot, overlap, former, members, nypd, adams, b...</td>\n",
       "      <td>[technology]</td>\n",
       "    </tr>\n",
       "    <tr>\n",
       "      <th>7</th>\n",
       "      <td>[Gizmodo.com]</td>\n",
       "      <td>[MaxwellZeff]</td>\n",
       "      <td>[OpenAI, Unveils, GPT-4, Omni’s, Voice, Capabi...</td>\n",
       "      <td>[OpenAI, unveiled, GPT-4, Omni, (GPT-4o), duri...</td>\n",
       "      <td>https://gizmodo.com/openai-unveils-gpt-4-omni-...</td>\n",
       "      <td>https://i.kinja-img.com/image/upload/c_fill,h_...</td>\n",
       "      <td>2024-05-13T18:24:00Z</td>\n",
       "      <td>[openai, unveiled, gpt, omni, gpt, spring, upd...</td>\n",
       "      <td>[technology]</td>\n",
       "    </tr>\n",
       "  </tbody>\n",
       "</table>\n",
       "</div>"
      ],
      "text/plain": [
       "          source         author  \\\n",
       "1        [Wired]   [StevenLevy]   \n",
       "2        [Wired]   [WillKnight]   \n",
       "3        [Wired]  [JasonParham]   \n",
       "5        [Wired]   [GeorgiaGee]   \n",
       "7  [Gizmodo.com]  [MaxwellZeff]   \n",
       "\n",
       "                                               title  \\\n",
       "1  [Don’t, Let, Mistrust, of, Tech, Companies, Bl...   \n",
       "2  [OpenAI, Offers, a, Peek, Inside, the, Guts, o...   \n",
       "3          [The, Rebirth, of, Queer, Cruising, Apps]   \n",
       "5  [Internal, Emails, Show, How, a, Controversial...   \n",
       "7  [OpenAI, Unveils, GPT-4, Omni’s, Voice, Capabi...   \n",
       "\n",
       "                                         description  \\\n",
       "1  [It’s, OK, to, be, doubtful, of, tech, leaders...   \n",
       "2  [Days, after, former, employees, said, the, co...   \n",
       "3  [Looking, for, casual, sex, is, often, seen, a...   \n",
       "5  [NYC, mayor, Eric, Adams, wants, to, test, Evo...   \n",
       "7  [OpenAI, unveiled, GPT-4, Omni, (GPT-4o), duri...   \n",
       "\n",
       "                                                 url  \\\n",
       "1  https://www.wired.com/story/dont-let-mistrust-...   \n",
       "2  https://www.wired.com/story/openai-offers-a-pe...   \n",
       "3  https://www.wired.com/story/the-rebirth-of-que...   \n",
       "5  https://www.wired.com/story/evolv-gun-detectio...   \n",
       "7  https://gizmodo.com/openai-unveils-gpt-4-omni-...   \n",
       "\n",
       "                                          urlToImage           publishedAt  \\\n",
       "1  https://media.wired.com/photos/66625436bd6c904...  2024-06-07T13:00:00Z   \n",
       "2  https://media.wired.com/photos/6661d484e7f0257...  2024-06-06T17:45:55Z   \n",
       "3  https://media.wired.com/photos/664fdffb3de340b...  2024-05-27T12:00:00Z   \n",
       "5  https://media.wired.com/photos/6629392ea620d99...  2024-05-13T16:59:51Z   \n",
       "7  https://i.kinja-img.com/image/upload/c_fill,h_...  2024-05-13T18:24:00Z   \n",
       "\n",
       "                                             content      category  \n",
       "1  [seems, evident, almost, years, first, confere...  [technology]  \n",
       "2  [chatgpt, developer, openais, approach, buildi...  [technology]  \n",
       "3  [one, night, past, february, drinks, moody, ba...  [technology]  \n",
       "5  [lot, overlap, former, members, nypd, adams, b...  [technology]  \n",
       "7  [openai, unveiled, gpt, omni, gpt, spring, upd...  [technology]  "
      ]
     },
     "execution_count": 348,
     "metadata": {},
     "output_type": "execute_result"
    }
   ],
   "source": [
    "df['source'] = df['source'].apply(safe_word_to_list)\n",
    "df.head()"
   ]
  },
  {
   "cell_type": "code",
   "execution_count": 349,
   "id": "ca9fde9d",
   "metadata": {},
   "outputs": [
    {
     "data": {
      "text/html": [
       "<div>\n",
       "<style scoped>\n",
       "    .dataframe tbody tr th:only-of-type {\n",
       "        vertical-align: middle;\n",
       "    }\n",
       "\n",
       "    .dataframe tbody tr th {\n",
       "        vertical-align: top;\n",
       "    }\n",
       "\n",
       "    .dataframe thead th {\n",
       "        text-align: right;\n",
       "    }\n",
       "</style>\n",
       "<table border=\"1\" class=\"dataframe\">\n",
       "  <thead>\n",
       "    <tr style=\"text-align: right;\">\n",
       "      <th></th>\n",
       "      <th>source</th>\n",
       "      <th>author</th>\n",
       "      <th>title</th>\n",
       "      <th>description</th>\n",
       "      <th>url</th>\n",
       "      <th>urlToImage</th>\n",
       "      <th>publishedAt</th>\n",
       "      <th>content</th>\n",
       "      <th>category</th>\n",
       "      <th>tags</th>\n",
       "    </tr>\n",
       "  </thead>\n",
       "  <tbody>\n",
       "    <tr>\n",
       "      <th>1</th>\n",
       "      <td>[Wired]</td>\n",
       "      <td>[StevenLevy]</td>\n",
       "      <td>[Don’t, Let, Mistrust, of, Tech, Companies, Bl...</td>\n",
       "      <td>[It’s, OK, to, be, doubtful, of, tech, leaders...</td>\n",
       "      <td>https://www.wired.com/story/dont-let-mistrust-...</td>\n",
       "      <td>https://media.wired.com/photos/66625436bd6c904...</td>\n",
       "      <td>2024-06-07T13:00:00Z</td>\n",
       "      <td>[seems, evident, almost, years, first, confere...</td>\n",
       "      <td>[technology]</td>\n",
       "      <td>[Wired, StevenLevy, Don’t, Let, Mistrust, of, ...</td>\n",
       "    </tr>\n",
       "    <tr>\n",
       "      <th>2</th>\n",
       "      <td>[Wired]</td>\n",
       "      <td>[WillKnight]</td>\n",
       "      <td>[OpenAI, Offers, a, Peek, Inside, the, Guts, o...</td>\n",
       "      <td>[Days, after, former, employees, said, the, co...</td>\n",
       "      <td>https://www.wired.com/story/openai-offers-a-pe...</td>\n",
       "      <td>https://media.wired.com/photos/6661d484e7f0257...</td>\n",
       "      <td>2024-06-06T17:45:55Z</td>\n",
       "      <td>[chatgpt, developer, openais, approach, buildi...</td>\n",
       "      <td>[technology]</td>\n",
       "      <td>[Wired, WillKnight, OpenAI, Offers, a, Peek, I...</td>\n",
       "    </tr>\n",
       "    <tr>\n",
       "      <th>3</th>\n",
       "      <td>[Wired]</td>\n",
       "      <td>[JasonParham]</td>\n",
       "      <td>[The, Rebirth, of, Queer, Cruising, Apps]</td>\n",
       "      <td>[Looking, for, casual, sex, is, often, seen, a...</td>\n",
       "      <td>https://www.wired.com/story/the-rebirth-of-que...</td>\n",
       "      <td>https://media.wired.com/photos/664fdffb3de340b...</td>\n",
       "      <td>2024-05-27T12:00:00Z</td>\n",
       "      <td>[one, night, past, february, drinks, moody, ba...</td>\n",
       "      <td>[technology]</td>\n",
       "      <td>[Wired, JasonParham, The, Rebirth, of, Queer, ...</td>\n",
       "    </tr>\n",
       "    <tr>\n",
       "      <th>5</th>\n",
       "      <td>[Wired]</td>\n",
       "      <td>[GeorgiaGee]</td>\n",
       "      <td>[Internal, Emails, Show, How, a, Controversial...</td>\n",
       "      <td>[NYC, mayor, Eric, Adams, wants, to, test, Evo...</td>\n",
       "      <td>https://www.wired.com/story/evolv-gun-detectio...</td>\n",
       "      <td>https://media.wired.com/photos/6629392ea620d99...</td>\n",
       "      <td>2024-05-13T16:59:51Z</td>\n",
       "      <td>[lot, overlap, former, members, nypd, adams, b...</td>\n",
       "      <td>[technology]</td>\n",
       "      <td>[Wired, GeorgiaGee, Internal, Emails, Show, Ho...</td>\n",
       "    </tr>\n",
       "    <tr>\n",
       "      <th>7</th>\n",
       "      <td>[Gizmodo.com]</td>\n",
       "      <td>[MaxwellZeff]</td>\n",
       "      <td>[OpenAI, Unveils, GPT-4, Omni’s, Voice, Capabi...</td>\n",
       "      <td>[OpenAI, unveiled, GPT-4, Omni, (GPT-4o), duri...</td>\n",
       "      <td>https://gizmodo.com/openai-unveils-gpt-4-omni-...</td>\n",
       "      <td>https://i.kinja-img.com/image/upload/c_fill,h_...</td>\n",
       "      <td>2024-05-13T18:24:00Z</td>\n",
       "      <td>[openai, unveiled, gpt, omni, gpt, spring, upd...</td>\n",
       "      <td>[technology]</td>\n",
       "      <td>[Gizmodo.com, MaxwellZeff, OpenAI, Unveils, GP...</td>\n",
       "    </tr>\n",
       "  </tbody>\n",
       "</table>\n",
       "</div>"
      ],
      "text/plain": [
       "          source         author  \\\n",
       "1        [Wired]   [StevenLevy]   \n",
       "2        [Wired]   [WillKnight]   \n",
       "3        [Wired]  [JasonParham]   \n",
       "5        [Wired]   [GeorgiaGee]   \n",
       "7  [Gizmodo.com]  [MaxwellZeff]   \n",
       "\n",
       "                                               title  \\\n",
       "1  [Don’t, Let, Mistrust, of, Tech, Companies, Bl...   \n",
       "2  [OpenAI, Offers, a, Peek, Inside, the, Guts, o...   \n",
       "3          [The, Rebirth, of, Queer, Cruising, Apps]   \n",
       "5  [Internal, Emails, Show, How, a, Controversial...   \n",
       "7  [OpenAI, Unveils, GPT-4, Omni’s, Voice, Capabi...   \n",
       "\n",
       "                                         description  \\\n",
       "1  [It’s, OK, to, be, doubtful, of, tech, leaders...   \n",
       "2  [Days, after, former, employees, said, the, co...   \n",
       "3  [Looking, for, casual, sex, is, often, seen, a...   \n",
       "5  [NYC, mayor, Eric, Adams, wants, to, test, Evo...   \n",
       "7  [OpenAI, unveiled, GPT-4, Omni, (GPT-4o), duri...   \n",
       "\n",
       "                                                 url  \\\n",
       "1  https://www.wired.com/story/dont-let-mistrust-...   \n",
       "2  https://www.wired.com/story/openai-offers-a-pe...   \n",
       "3  https://www.wired.com/story/the-rebirth-of-que...   \n",
       "5  https://www.wired.com/story/evolv-gun-detectio...   \n",
       "7  https://gizmodo.com/openai-unveils-gpt-4-omni-...   \n",
       "\n",
       "                                          urlToImage           publishedAt  \\\n",
       "1  https://media.wired.com/photos/66625436bd6c904...  2024-06-07T13:00:00Z   \n",
       "2  https://media.wired.com/photos/6661d484e7f0257...  2024-06-06T17:45:55Z   \n",
       "3  https://media.wired.com/photos/664fdffb3de340b...  2024-05-27T12:00:00Z   \n",
       "5  https://media.wired.com/photos/6629392ea620d99...  2024-05-13T16:59:51Z   \n",
       "7  https://i.kinja-img.com/image/upload/c_fill,h_...  2024-05-13T18:24:00Z   \n",
       "\n",
       "                                             content      category  \\\n",
       "1  [seems, evident, almost, years, first, confere...  [technology]   \n",
       "2  [chatgpt, developer, openais, approach, buildi...  [technology]   \n",
       "3  [one, night, past, february, drinks, moody, ba...  [technology]   \n",
       "5  [lot, overlap, former, members, nypd, adams, b...  [technology]   \n",
       "7  [openai, unveiled, gpt, omni, gpt, spring, upd...  [technology]   \n",
       "\n",
       "                                                tags  \n",
       "1  [Wired, StevenLevy, Don’t, Let, Mistrust, of, ...  \n",
       "2  [Wired, WillKnight, OpenAI, Offers, a, Peek, I...  \n",
       "3  [Wired, JasonParham, The, Rebirth, of, Queer, ...  \n",
       "5  [Wired, GeorgiaGee, Internal, Emails, Show, Ho...  \n",
       "7  [Gizmodo.com, MaxwellZeff, OpenAI, Unveils, GP...  "
      ]
     },
     "execution_count": 349,
     "metadata": {},
     "output_type": "execute_result"
    }
   ],
   "source": [
    "df['tags'] = df['source'] + df['author'] + df['title'] + df['description'] + df['content'] + df['category']\n",
    "df.head()"
   ]
  },
  {
   "cell_type": "code",
   "execution_count": 350,
   "id": "e05dc908",
   "metadata": {},
   "outputs": [
    {
     "data": {
      "text/html": [
       "<div>\n",
       "<style scoped>\n",
       "    .dataframe tbody tr th:only-of-type {\n",
       "        vertical-align: middle;\n",
       "    }\n",
       "\n",
       "    .dataframe tbody tr th {\n",
       "        vertical-align: top;\n",
       "    }\n",
       "\n",
       "    .dataframe thead th {\n",
       "        text-align: right;\n",
       "    }\n",
       "</style>\n",
       "<table border=\"1\" class=\"dataframe\">\n",
       "  <thead>\n",
       "    <tr style=\"text-align: right;\">\n",
       "      <th></th>\n",
       "      <th>source</th>\n",
       "      <th>title</th>\n",
       "      <th>category</th>\n",
       "      <th>tags</th>\n",
       "    </tr>\n",
       "  </thead>\n",
       "  <tbody>\n",
       "    <tr>\n",
       "      <th>1</th>\n",
       "      <td>[Wired]</td>\n",
       "      <td>[Don’t, Let, Mistrust, of, Tech, Companies, Bl...</td>\n",
       "      <td>[technology]</td>\n",
       "      <td>[Wired, StevenLevy, Don’t, Let, Mistrust, of, ...</td>\n",
       "    </tr>\n",
       "    <tr>\n",
       "      <th>2</th>\n",
       "      <td>[Wired]</td>\n",
       "      <td>[OpenAI, Offers, a, Peek, Inside, the, Guts, o...</td>\n",
       "      <td>[technology]</td>\n",
       "      <td>[Wired, WillKnight, OpenAI, Offers, a, Peek, I...</td>\n",
       "    </tr>\n",
       "    <tr>\n",
       "      <th>3</th>\n",
       "      <td>[Wired]</td>\n",
       "      <td>[The, Rebirth, of, Queer, Cruising, Apps]</td>\n",
       "      <td>[technology]</td>\n",
       "      <td>[Wired, JasonParham, The, Rebirth, of, Queer, ...</td>\n",
       "    </tr>\n",
       "    <tr>\n",
       "      <th>5</th>\n",
       "      <td>[Wired]</td>\n",
       "      <td>[Internal, Emails, Show, How, a, Controversial...</td>\n",
       "      <td>[technology]</td>\n",
       "      <td>[Wired, GeorgiaGee, Internal, Emails, Show, Ho...</td>\n",
       "    </tr>\n",
       "    <tr>\n",
       "      <th>7</th>\n",
       "      <td>[Gizmodo.com]</td>\n",
       "      <td>[OpenAI, Unveils, GPT-4, Omni’s, Voice, Capabi...</td>\n",
       "      <td>[technology]</td>\n",
       "      <td>[Gizmodo.com, MaxwellZeff, OpenAI, Unveils, GP...</td>\n",
       "    </tr>\n",
       "  </tbody>\n",
       "</table>\n",
       "</div>"
      ],
      "text/plain": [
       "          source                                              title  \\\n",
       "1        [Wired]  [Don’t, Let, Mistrust, of, Tech, Companies, Bl...   \n",
       "2        [Wired]  [OpenAI, Offers, a, Peek, Inside, the, Guts, o...   \n",
       "3        [Wired]          [The, Rebirth, of, Queer, Cruising, Apps]   \n",
       "5        [Wired]  [Internal, Emails, Show, How, a, Controversial...   \n",
       "7  [Gizmodo.com]  [OpenAI, Unveils, GPT-4, Omni’s, Voice, Capabi...   \n",
       "\n",
       "       category                                               tags  \n",
       "1  [technology]  [Wired, StevenLevy, Don’t, Let, Mistrust, of, ...  \n",
       "2  [technology]  [Wired, WillKnight, OpenAI, Offers, a, Peek, I...  \n",
       "3  [technology]  [Wired, JasonParham, The, Rebirth, of, Queer, ...  \n",
       "5  [technology]  [Wired, GeorgiaGee, Internal, Emails, Show, Ho...  \n",
       "7  [technology]  [Gizmodo.com, MaxwellZeff, OpenAI, Unveils, GP...  "
      ]
     },
     "execution_count": 350,
     "metadata": {},
     "output_type": "execute_result"
    }
   ],
   "source": [
    "dfNew = df.drop(columns=['url','urlToImage','publishedAt','content','description', 'author'])\n",
    "dfNew.head()"
   ]
  },
  {
   "cell_type": "code",
   "execution_count": 359,
   "id": "b41f7304",
   "metadata": {},
   "outputs": [],
   "source": [
    "def preprocess_text(text):\n",
    "    # Remove non-alphabetic characters and convert to lowercase\n",
    "    text = re.sub(r'[^a-zA-Z]', ' ', text).lower()\n",
    "    \n",
    "    # Tokenize the text\n",
    "    words = text.split()\n",
    "    \n",
    "    # Remove stop words\n",
    "    stop_words = set(stopwords.words('english'))\n",
    "    words = [word for word in words if word not in stop_words]\n",
    "    \n",
    "    # Lemmatize the words\n",
    "    lemmatizer = WordNetLemmatizer()\n",
    "    words = [lemmatizer.lemmatize(word) for word in words]\n",
    "    \n",
    "    # Join the words back into a single string\n",
    "    cleaned_text = ' '.join(words)\n",
    "    \n",
    "    return words\n"
   ]
  },
  {
   "cell_type": "code",
   "execution_count": 360,
   "id": "bb2d9e2e",
   "metadata": {},
   "outputs": [
    {
     "data": {
      "text/plain": [
       "list"
      ]
     },
     "execution_count": 360,
     "metadata": {},
     "output_type": "execute_result"
    }
   ],
   "source": [
    "type(df['tags'][1])"
   ]
  },
  {
   "cell_type": "code",
   "execution_count": 361,
   "id": "c0ee5f16",
   "metadata": {},
   "outputs": [],
   "source": [
    "dfNew['tags'] = dfNew['tags'].apply(lambda x: \" \".join(x) if isinstance(x, list) else x)"
   ]
  },
  {
   "cell_type": "code",
   "execution_count": 362,
   "id": "a7f8066e",
   "metadata": {},
   "outputs": [
    {
     "data": {
      "text/html": [
       "<div>\n",
       "<style scoped>\n",
       "    .dataframe tbody tr th:only-of-type {\n",
       "        vertical-align: middle;\n",
       "    }\n",
       "\n",
       "    .dataframe tbody tr th {\n",
       "        vertical-align: top;\n",
       "    }\n",
       "\n",
       "    .dataframe thead th {\n",
       "        text-align: right;\n",
       "    }\n",
       "</style>\n",
       "<table border=\"1\" class=\"dataframe\">\n",
       "  <thead>\n",
       "    <tr style=\"text-align: right;\">\n",
       "      <th></th>\n",
       "      <th>source</th>\n",
       "      <th>title</th>\n",
       "      <th>category</th>\n",
       "      <th>tags</th>\n",
       "    </tr>\n",
       "  </thead>\n",
       "  <tbody>\n",
       "    <tr>\n",
       "      <th>1</th>\n",
       "      <td>[Wired]</td>\n",
       "      <td>[Don’t, Let, Mistrust, of, Tech, Companies, Bl...</td>\n",
       "      <td>[technology]</td>\n",
       "      <td>wired stevenlevy don t let mistrust of tech co...</td>\n",
       "    </tr>\n",
       "    <tr>\n",
       "      <th>2</th>\n",
       "      <td>[Wired]</td>\n",
       "      <td>[OpenAI, Offers, a, Peek, Inside, the, Guts, o...</td>\n",
       "      <td>[technology]</td>\n",
       "      <td>wired willknight openai offers a peek inside t...</td>\n",
       "    </tr>\n",
       "    <tr>\n",
       "      <th>3</th>\n",
       "      <td>[Wired]</td>\n",
       "      <td>[The, Rebirth, of, Queer, Cruising, Apps]</td>\n",
       "      <td>[technology]</td>\n",
       "      <td>wired jasonparham the rebirth of queer cruisin...</td>\n",
       "    </tr>\n",
       "    <tr>\n",
       "      <th>5</th>\n",
       "      <td>[Wired]</td>\n",
       "      <td>[Internal, Emails, Show, How, a, Controversial...</td>\n",
       "      <td>[technology]</td>\n",
       "      <td>wired georgiagee internal emails show how a co...</td>\n",
       "    </tr>\n",
       "    <tr>\n",
       "      <th>7</th>\n",
       "      <td>[Gizmodo.com]</td>\n",
       "      <td>[OpenAI, Unveils, GPT-4, Omni’s, Voice, Capabi...</td>\n",
       "      <td>[technology]</td>\n",
       "      <td>gizmodo com maxwellzeff openai unveils gpt omn...</td>\n",
       "    </tr>\n",
       "  </tbody>\n",
       "</table>\n",
       "</div>"
      ],
      "text/plain": [
       "          source                                              title  \\\n",
       "1        [Wired]  [Don’t, Let, Mistrust, of, Tech, Companies, Bl...   \n",
       "2        [Wired]  [OpenAI, Offers, a, Peek, Inside, the, Guts, o...   \n",
       "3        [Wired]          [The, Rebirth, of, Queer, Cruising, Apps]   \n",
       "5        [Wired]  [Internal, Emails, Show, How, a, Controversial...   \n",
       "7  [Gizmodo.com]  [OpenAI, Unveils, GPT-4, Omni’s, Voice, Capabi...   \n",
       "\n",
       "       category                                               tags  \n",
       "1  [technology]  wired stevenlevy don t let mistrust of tech co...  \n",
       "2  [technology]  wired willknight openai offers a peek inside t...  \n",
       "3  [technology]  wired jasonparham the rebirth of queer cruisin...  \n",
       "5  [technology]  wired georgiagee internal emails show how a co...  \n",
       "7  [technology]  gizmodo com maxwellzeff openai unveils gpt omn...  "
      ]
     },
     "execution_count": 362,
     "metadata": {},
     "output_type": "execute_result"
    }
   ],
   "source": [
    "dfNew.head()"
   ]
  },
  {
   "cell_type": "code",
   "execution_count": 363,
   "id": "0c08fb85",
   "metadata": {},
   "outputs": [
    {
     "data": {
      "text/html": [
       "<div>\n",
       "<style scoped>\n",
       "    .dataframe tbody tr th:only-of-type {\n",
       "        vertical-align: middle;\n",
       "    }\n",
       "\n",
       "    .dataframe tbody tr th {\n",
       "        vertical-align: top;\n",
       "    }\n",
       "\n",
       "    .dataframe thead th {\n",
       "        text-align: right;\n",
       "    }\n",
       "</style>\n",
       "<table border=\"1\" class=\"dataframe\">\n",
       "  <thead>\n",
       "    <tr style=\"text-align: right;\">\n",
       "      <th></th>\n",
       "      <th>source</th>\n",
       "      <th>title</th>\n",
       "      <th>category</th>\n",
       "      <th>tags</th>\n",
       "    </tr>\n",
       "  </thead>\n",
       "  <tbody>\n",
       "    <tr>\n",
       "      <th>1</th>\n",
       "      <td>[Wired]</td>\n",
       "      <td>[Don’t, Let, Mistrust, of, Tech, Companies, Bl...</td>\n",
       "      <td>[technology]</td>\n",
       "      <td>[wired, stevenlevy, let, mistrust, tech, compa...</td>\n",
       "    </tr>\n",
       "    <tr>\n",
       "      <th>2</th>\n",
       "      <td>[Wired]</td>\n",
       "      <td>[OpenAI, Offers, a, Peek, Inside, the, Guts, o...</td>\n",
       "      <td>[technology]</td>\n",
       "      <td>[wired, willknight, openai, offer, peek, insid...</td>\n",
       "    </tr>\n",
       "    <tr>\n",
       "      <th>3</th>\n",
       "      <td>[Wired]</td>\n",
       "      <td>[The, Rebirth, of, Queer, Cruising, Apps]</td>\n",
       "      <td>[technology]</td>\n",
       "      <td>[wired, jasonparham, rebirth, queer, cruising,...</td>\n",
       "    </tr>\n",
       "    <tr>\n",
       "      <th>5</th>\n",
       "      <td>[Wired]</td>\n",
       "      <td>[Internal, Emails, Show, How, a, Controversial...</td>\n",
       "      <td>[technology]</td>\n",
       "      <td>[wired, georgiagee, internal, email, show, con...</td>\n",
       "    </tr>\n",
       "    <tr>\n",
       "      <th>7</th>\n",
       "      <td>[Gizmodo.com]</td>\n",
       "      <td>[OpenAI, Unveils, GPT-4, Omni’s, Voice, Capabi...</td>\n",
       "      <td>[technology]</td>\n",
       "      <td>[gizmodo, com, maxwellzeff, openai, unveils, g...</td>\n",
       "    </tr>\n",
       "  </tbody>\n",
       "</table>\n",
       "</div>"
      ],
      "text/plain": [
       "          source                                              title  \\\n",
       "1        [Wired]  [Don’t, Let, Mistrust, of, Tech, Companies, Bl...   \n",
       "2        [Wired]  [OpenAI, Offers, a, Peek, Inside, the, Guts, o...   \n",
       "3        [Wired]          [The, Rebirth, of, Queer, Cruising, Apps]   \n",
       "5        [Wired]  [Internal, Emails, Show, How, a, Controversial...   \n",
       "7  [Gizmodo.com]  [OpenAI, Unveils, GPT-4, Omni’s, Voice, Capabi...   \n",
       "\n",
       "       category                                               tags  \n",
       "1  [technology]  [wired, stevenlevy, let, mistrust, tech, compa...  \n",
       "2  [technology]  [wired, willknight, openai, offer, peek, insid...  \n",
       "3  [technology]  [wired, jasonparham, rebirth, queer, cruising,...  \n",
       "5  [technology]  [wired, georgiagee, internal, email, show, con...  \n",
       "7  [technology]  [gizmodo, com, maxwellzeff, openai, unveils, g...  "
      ]
     },
     "execution_count": 363,
     "metadata": {},
     "output_type": "execute_result"
    }
   ],
   "source": [
    "dfNew['tags'] = dfNew['tags'].apply(preprocess_text)\n",
    "dfNew.head()"
   ]
  },
  {
   "cell_type": "code",
   "execution_count": 367,
   "id": "553fb5c0",
   "metadata": {},
   "outputs": [],
   "source": [
    "dfNew['tags'] = dfNew['tags'].apply(lambda x: \" \".join(x))"
   ]
  },
  {
   "cell_type": "code",
   "execution_count": 368,
   "id": "17b21bd5",
   "metadata": {},
   "outputs": [],
   "source": [
    "from sklearn.feature_extraction.text import CountVectorizer"
   ]
  },
  {
   "cell_type": "code",
   "execution_count": 369,
   "id": "8a319be9",
   "metadata": {},
   "outputs": [
    {
     "data": {
      "text/plain": [
       "array([[0, 0, 0, ..., 0, 0, 0],\n",
       "       [0, 0, 0, ..., 0, 0, 0],\n",
       "       [0, 0, 0, ..., 0, 0, 0],\n",
       "       ...,\n",
       "       [0, 0, 0, ..., 0, 0, 0],\n",
       "       [0, 0, 0, ..., 0, 0, 0],\n",
       "       [0, 0, 0, ..., 0, 0, 0]])"
      ]
     },
     "execution_count": 369,
     "metadata": {},
     "output_type": "execute_result"
    }
   ],
   "source": [
    "cv = CountVectorizer(stop_words='english', max_features=5000)\n",
    "vectors = cv.fit_transform(dfNew['tags']).toarray()\n",
    "vectors"
   ]
  },
  {
   "cell_type": "code",
   "execution_count": 370,
   "id": "7f1d3562",
   "metadata": {},
   "outputs": [
    {
     "data": {
      "text/plain": [
       "(621, 5000)"
      ]
     },
     "execution_count": 370,
     "metadata": {},
     "output_type": "execute_result"
    }
   ],
   "source": [
    "vectors.shape"
   ]
  },
  {
   "cell_type": "code",
   "execution_count": 371,
   "id": "1f694688",
   "metadata": {},
   "outputs": [
    {
     "data": {
      "text/plain": [
       "array([0, 0, 0, ..., 0, 0, 0])"
      ]
     },
     "execution_count": 371,
     "metadata": {},
     "output_type": "execute_result"
    }
   ],
   "source": [
    "vectors[0]"
   ]
  },
  {
   "cell_type": "code",
   "execution_count": 372,
   "id": "065c8439",
   "metadata": {},
   "outputs": [
    {
     "data": {
      "text/plain": [
       "array(['aarona', 'aaronkatersky', 'aashnagheewalla', ..., 'zhang',\n",
       "       'zimmerman', 'zoom'], dtype=object)"
      ]
     },
     "execution_count": 372,
     "metadata": {},
     "output_type": "execute_result"
    }
   ],
   "source": [
    "cv.get_feature_names_out()"
   ]
  },
  {
   "cell_type": "code",
   "execution_count": 374,
   "id": "6fcdccfd",
   "metadata": {},
   "outputs": [
    {
     "data": {
      "text/plain": [
       "'wired stevenlevy let mistrust tech company blind power ai ok doubtful tech leader grandiose vision ai future mean technology huge impact seems evident almost year first conference artificial intelligencewhere nascent field leader suggested task would completed within decadethe field char technology'"
      ]
     },
     "execution_count": 374,
     "metadata": {},
     "output_type": "execute_result"
    }
   ],
   "source": [
    "dfNew.head()['tags'][1]"
   ]
  },
  {
   "cell_type": "markdown",
   "id": "2691e0a9",
   "metadata": {},
   "source": [
    "# Build Neural Network"
   ]
  },
  {
   "cell_type": "code",
   "execution_count": 375,
   "id": "414f8e2d",
   "metadata": {},
   "outputs": [],
   "source": [
    "model = tf.keras.Sequential([\n",
    "    tf.keras.layers.Dense(128, activation='relu', input_shape=(article_features.shape[1],)),\n",
    "    tf.keras.layers.Dense(64, activation='relu'),\n",
    "    tf.keras.layers.Dense(1, activation='sigmoid')  # Assuming a binary relevance score\n",
    "])\n",
    "\n",
    "model.compile(optimizer='adam', loss='binary_crossentropy', metrics=['accuracy'])"
   ]
  },
  {
   "cell_type": "markdown",
   "id": "32edd84f",
   "metadata": {},
   "source": [
    "# Training the model"
   ]
  },
  {
   "cell_type": "code",
   "execution_count": null,
   "id": "9930a675",
   "metadata": {},
   "outputs": [],
   "source": [
    "model.fit(article_features, user_interactions, epochs=10, batch_size=32)"
   ]
  },
  {
   "cell_type": "code",
   "execution_count": null,
   "id": "4003d5ef",
   "metadata": {},
   "outputs": [],
   "source": [
    "def recommend_articles(user_profile, top_n=15):\n",
    "    user_features = vectorizer.transform([preprocess_text(article) for article in user_profile])\n",
    "    predictions = model.predict(user_features)\n",
    "    recommended_indices = predictions.argsort()[-top_n:][::-1]\n",
    "    return [articles[i] for i in recommended_indices]"
   ]
  },
  {
   "cell_type": "code",
   "execution_count": null,
   "id": "31a715af",
   "metadata": {},
   "outputs": [],
   "source": [
    "# Assuming new_interactions is a list of new user-article interactions\n",
    "new_article_features = vectorizer.transform([preprocess_text(article) for article in new_articles])\n",
    "model.fit(new_article_features, new_user_interactions, epochs=5, batch_size=32)"
   ]
  },
  {
   "cell_type": "code",
   "execution_count": null,
   "id": "f0f02338",
   "metadata": {},
   "outputs": [],
   "source": []
  }
 ],
 "metadata": {
  "kernelspec": {
   "display_name": "Python 3 (ipykernel)",
   "language": "python",
   "name": "python3"
  },
  "language_info": {
   "codemirror_mode": {
    "name": "ipython",
    "version": 3
   },
   "file_extension": ".py",
   "mimetype": "text/x-python",
   "name": "python",
   "nbconvert_exporter": "python",
   "pygments_lexer": "ipython3",
   "version": "3.11.0"
  }
 },
 "nbformat": 4,
 "nbformat_minor": 5
}
